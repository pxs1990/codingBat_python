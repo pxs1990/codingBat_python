{
  "nbformat": 4,
  "nbformat_minor": 0,
  "metadata": {
    "colab": {
      "provenance": [],
      "authorship_tag": "ABX9TyNxtQhmMcSIpscjp49crBdh",
      "include_colab_link": true
    },
    "kernelspec": {
      "name": "python3",
      "display_name": "Python 3"
    },
    "language_info": {
      "name": "python"
    }
  },
  "cells": [
    {
      "cell_type": "markdown",
      "metadata": {
        "id": "view-in-github",
        "colab_type": "text"
      },
      "source": [
        "<a href=\"https://colab.research.google.com/github/pxs1990/codingBat_python/blob/main/codingBat.ipynb\" target=\"_parent\"><img src=\"https://colab.research.google.com/assets/colab-badge.svg\" alt=\"Open In Colab\"/></a>"
      ]
    },
    {
      "cell_type": "code",
      "execution_count": null,
      "metadata": {
        "colab": {
          "base_uri": "https://localhost:8080/"
        },
        "id": "7ZIMzx1kDR2P",
        "outputId": "9b1364c1-53cb-494b-9d58-5614ec6a40b3"
      },
      "outputs": [
        {
          "output_type": "execute_result",
          "data": {
            "text/plain": [
              "True"
            ]
          },
          "metadata": {},
          "execution_count": 7
        }
      ],
      "source": [
        "# The parameter weekday is True if it is a weekday, and the parameter vacation is\n",
        "# True if we are on vacation. We sleep in if it is not a weekday or we're on vacation.\n",
        "# Return True if we sleep in.\n",
        "def do_we_sleep(weekday, vacation):\n",
        "  if not weekday or vacation:\n",
        "    return True\n",
        "  else:\n",
        "    return False\n",
        "  # shortcut: return(not weekday or vacation)\n",
        "do_we_sleep(True, True)\n"
      ]
    },
    {
      "cell_type": "code",
      "source": [
        "# We have two monkeys, a and b, and the parameters a_smile and b_smile indicate if\n",
        "# each is smiling. We are in trouble if they are both smiling or if neither of them is smiling.\n",
        "# Return True if we are in trouble.\n",
        "def is_it_trouble(a_smile, b_smile):\n",
        "  if (a_smile and b_smile) or (not a_smile and not b_smile):\n",
        "    return True\n",
        "  else:\n",
        "    return False\n",
        "is_it_trouble(False,False)"
      ],
      "metadata": {
        "colab": {
          "base_uri": "https://localhost:8080/"
        },
        "id": "JQPhvVWqEgfm",
        "outputId": "a482fdd0-dc4f-4e25-e231-11268337c29e"
      },
      "execution_count": null,
      "outputs": [
        {
          "output_type": "execute_result",
          "data": {
            "text/plain": [
              "True"
            ]
          },
          "metadata": {},
          "execution_count": 11
        }
      ]
    },
    {
      "cell_type": "code",
      "source": [
        "# Given two int values, return their sum. Unless the two values are the same, then\n",
        "# return double their sum.\n",
        "def sum_double(a, b):\n",
        "  if (a==b):\n",
        "    return 2*(a+b)\n",
        "  else:\n",
        "    return a+b\n",
        "sum_double(2,2)\n"
      ],
      "metadata": {
        "colab": {
          "base_uri": "https://localhost:8080/"
        },
        "id": "1CQVpmUGIFYB",
        "outputId": "b3c7dbbd-18b5-48ef-d86b-eef14a086a8c"
      },
      "execution_count": null,
      "outputs": [
        {
          "output_type": "execute_result",
          "data": {
            "text/plain": [
              "8"
            ]
          },
          "metadata": {},
          "execution_count": 14
        }
      ]
    },
    {
      "cell_type": "code",
      "source": [
        "# Given an int n, return the absolute difference between n and 21,\n",
        "# except return double the absolute difference if n is over 21.\n",
        "def diff21(n):\n",
        "  if(n>21):\n",
        "    return 2*abs(n-21)\n",
        "  else:\n",
        "    return abs(n-21)\n",
        "diff21(25)\n",
        "\n"
      ],
      "metadata": {
        "colab": {
          "base_uri": "https://localhost:8080/"
        },
        "id": "wM0tcSFBIbuP",
        "outputId": "486d6db8-c1ec-4a41-a60e-d010a92cb497"
      },
      "execution_count": null,
      "outputs": [
        {
          "output_type": "execute_result",
          "data": {
            "text/plain": [
              "8"
            ]
          },
          "metadata": {},
          "execution_count": 16
        }
      ]
    },
    {
      "cell_type": "code",
      "source": [
        "# We have a loud talking parrot. The \"hour\" parameter is the current hour time in\n",
        "# the range 0..23. We are in trouble if the parrot is talking and the hour is\n",
        "#  before 7 or after 20. Return True if we are in trouble.\n",
        "def in_trouble(talking,hour):\n",
        "  if (talking and (hour<7 or hour > 20)):\n",
        "    return True\n",
        "  else:\n",
        "    return False\n",
        "in_trouble(True, 15)\n",
        "\n"
      ],
      "metadata": {
        "colab": {
          "base_uri": "https://localhost:8080/"
        },
        "id": "-WGoZIgSJUOM",
        "outputId": "726ccdcf-ff3b-4530-883e-af23410bdedf"
      },
      "execution_count": null,
      "outputs": [
        {
          "output_type": "execute_result",
          "data": {
            "text/plain": [
              "False"
            ]
          },
          "metadata": {},
          "execution_count": 18
        }
      ]
    },
    {
      "cell_type": "code",
      "source": [
        "#Given 2 ints, a and b, return True if one if them is 10 or if their sum is 10\n",
        "def makes10(a, b):\n",
        "  if (a==10 or b==10):\n",
        "    return True\n",
        "  elif (a+b==10):\n",
        "    return True\n",
        "  else:\n",
        "    return False\n",
        "makes10(1,5)"
      ],
      "metadata": {
        "id": "ShGOzuTxM8Zd",
        "colab": {
          "base_uri": "https://localhost:8080/"
        },
        "outputId": "a656f0cb-d9c9-4d7e-cd8f-19ad675e8c4c"
      },
      "execution_count": null,
      "outputs": [
        {
          "output_type": "execute_result",
          "data": {
            "text/plain": [
              "False"
            ]
          },
          "metadata": {},
          "execution_count": 21
        }
      ]
    },
    {
      "cell_type": "code",
      "source": [
        "#Given an int n, return True if it is within 10 of 100 or 200.\n",
        "#Note: abs(num) computes the absolute value of a number.\n",
        "def near_hundred(n):\n",
        "  if (abs(100-n)<=10 or abs(200-n)<=10):\n",
        "    return True\n",
        "  else:\n",
        "    return False\n",
        "near_hundred(80)"
      ],
      "metadata": {
        "colab": {
          "base_uri": "https://localhost:8080/"
        },
        "id": "XbVPHzdyOL1Y",
        "outputId": "6d7080a0-401b-4a7c-b6fd-a12be263061c"
      },
      "execution_count": null,
      "outputs": [
        {
          "output_type": "execute_result",
          "data": {
            "text/plain": [
              "False"
            ]
          },
          "metadata": {},
          "execution_count": 22
        }
      ]
    },
    {
      "cell_type": "code",
      "source": [
        "# Given 2 int values, return True if one is negative and one is positive.\n",
        "# Except if the parameter \"negative\" is True, then return True only if both are negative.\n",
        "def pos_neg(a, b, negative):\n",
        "  if negative:\n",
        "    if (a < 0 and b < 0):\n",
        "      return True\n",
        "    else:\n",
        "      return False\n",
        "  else:\n",
        "    if ((a < 0 and b > 0) or (a > 0 and b < 0)):\n",
        "      return True\n",
        "    else:\n",
        "      return False\n",
        "pos_neg(1,3, True)\n"
      ],
      "metadata": {
        "colab": {
          "base_uri": "https://localhost:8080/"
        },
        "id": "ahiSCwelVgLm",
        "outputId": "42cf3e8e-d419-422b-858f-67f16040cebf"
      },
      "execution_count": null,
      "outputs": [
        {
          "output_type": "execute_result",
          "data": {
            "text/plain": [
              "False"
            ]
          },
          "metadata": {},
          "execution_count": 24
        }
      ]
    },
    {
      "cell_type": "code",
      "source": [
        "# Given a string, return a new string where \"not \" has been added to the front.\n",
        "# However, if the string already begins with \"not\", return the string unchanged.\n",
        "\n",
        "def not_string(str):\n",
        "  if len(str) >= 3 and str[:3] == \"not\":\n",
        "    return str\n",
        "  else:\n",
        "    return \"not \" + str\n",
        "    # else is optional with return stmt\n",
        "not_string(\"pushpa\")"
      ],
      "metadata": {
        "colab": {
          "base_uri": "https://localhost:8080/",
          "height": 36
        },
        "id": "UCFIqoeSbIZe",
        "outputId": "bb1156f7-6d17-478a-d3a1-24f3ae02f41f"
      },
      "execution_count": null,
      "outputs": [
        {
          "output_type": "execute_result",
          "data": {
            "text/plain": [
              "'not pushpa'"
            ],
            "application/vnd.google.colaboratory.intrinsic+json": {
              "type": "string"
            }
          },
          "metadata": {},
          "execution_count": 25
        }
      ]
    },
    {
      "cell_type": "code",
      "source": [
        "# Given a non-empty string and an int n, return a new string where the char at\n",
        "# index n has been removed.\n",
        "def missing_char(str, n):\n",
        "  if(n<len(str)):\n",
        "    return str[0:n]+str[n+1:]\n",
        "missing_char(\"pushpa\",3)"
      ],
      "metadata": {
        "colab": {
          "base_uri": "https://localhost:8080/",
          "height": 36
        },
        "id": "6ooT4KICbf56",
        "outputId": "087abc0a-f46f-4526-e517-c21163d86a2a"
      },
      "execution_count": null,
      "outputs": [
        {
          "output_type": "execute_result",
          "data": {
            "text/plain": [
              "'puspa'"
            ],
            "application/vnd.google.colaboratory.intrinsic+json": {
              "type": "string"
            }
          },
          "metadata": {},
          "execution_count": 26
        }
      ]
    },
    {
      "cell_type": "code",
      "source": [
        "#Given a string, return a new string where the first and last chars have been exchanged.\n",
        "def front_back(string):\n",
        "    if len(string) <= 1:\n",
        "        return string\n",
        "    else:\n",
        "        return string[-1] + string[1:-1] + string[0]\n",
        "front_back('push')"
      ],
      "metadata": {
        "colab": {
          "base_uri": "https://localhost:8080/",
          "height": 36
        },
        "id": "i_NvDqJLd6ay",
        "outputId": "97d1b3b4-e2c3-45d1-dfb9-e5e1396bbede"
      },
      "execution_count": null,
      "outputs": [
        {
          "output_type": "execute_result",
          "data": {
            "text/plain": [
              "'husp'"
            ],
            "application/vnd.google.colaboratory.intrinsic+json": {
              "type": "string"
            }
          },
          "metadata": {},
          "execution_count": 28
        }
      ]
    },
    {
      "cell_type": "code",
      "source": [
        "# Given a string, we'll say that the front is the first 3 chars of the string.\n",
        "# If the string length is less than 3, the front is whatever is there.\n",
        "# Return a new string which is 3 copies of the front.\n",
        "def front3(str):\n",
        "  if(len(str)<3):\n",
        "    return str+str+str\n",
        "  else:\n",
        "    return str[:3]+str[:3]+str[:3]\n",
        "front3(\"push\")\n"
      ],
      "metadata": {
        "colab": {
          "base_uri": "https://localhost:8080/",
          "height": 36
        },
        "id": "MSJApF-HgSPi",
        "outputId": "2d83233e-263f-42a5-efeb-c1d82f96e50a"
      },
      "execution_count": null,
      "outputs": [
        {
          "output_type": "execute_result",
          "data": {
            "text/plain": [
              "'puspuspus'"
            ],
            "application/vnd.google.colaboratory.intrinsic+json": {
              "type": "string"
            }
          },
          "metadata": {},
          "execution_count": 27
        }
      ]
    },
    {
      "cell_type": "code",
      "source": [
        "#Given a string and a non-negative int n, return a larger string that is n copies of the original string.\n",
        "def string_times(str, n):\n",
        "  newStr=''\n",
        "  for i in range(n):\n",
        "    newStr+=str\n",
        "  return newStr\n",
        "string_times('push',2)"
      ],
      "metadata": {
        "colab": {
          "base_uri": "https://localhost:8080/",
          "height": 36
        },
        "id": "FytNLj57n4iD",
        "outputId": "eb5304e5-d2d6-4254-eecf-b0417badc85a"
      },
      "execution_count": null,
      "outputs": [
        {
          "output_type": "execute_result",
          "data": {
            "text/plain": [
              "'pushpush'"
            ],
            "application/vnd.google.colaboratory.intrinsic+json": {
              "type": "string"
            }
          },
          "metadata": {},
          "execution_count": 30
        }
      ]
    },
    {
      "cell_type": "code",
      "source": [
        "# Given a string and a non-negative int n, we'll say that the front of the string\n",
        "#  is the first 3 chars, or whatever is there if the string is less than length 3.\n",
        "#  Return n copies of the front;\n",
        "def front_times(str, n):\n",
        "  newStr=''\n",
        "  for i in range(n):\n",
        "    if(len(str)<3):\n",
        "      newStr+=str\n",
        "    else:\n",
        "      newStr+=str[0:3]\n",
        "  return newStr\n",
        "front_times('push',4)"
      ],
      "metadata": {
        "colab": {
          "base_uri": "https://localhost:8080/",
          "height": 36
        },
        "id": "clTVombyo-sQ",
        "outputId": "0486c9fb-2769-44e0-d158-309d19faebfd"
      },
      "execution_count": null,
      "outputs": [
        {
          "output_type": "execute_result",
          "data": {
            "text/plain": [
              "'puspuspuspus'"
            ],
            "application/vnd.google.colaboratory.intrinsic+json": {
              "type": "string"
            }
          },
          "metadata": {},
          "execution_count": 29
        }
      ]
    },
    {
      "cell_type": "code",
      "source": [
        "#Given a string, return a new string made of every other char starting with the first,\n",
        "# so \"Hello\" yields \"Hlo\".\n",
        "def string_alt(str):\n",
        "  newStr=''\n",
        "  for i in range(0,len(str),2):\n",
        "    newStr+=str[i]\n",
        "  return newStr\n",
        "string_alt('pushpa')"
      ],
      "metadata": {
        "colab": {
          "base_uri": "https://localhost:8080/",
          "height": 36
        },
        "id": "kx1SHtghrCvF",
        "outputId": "1b66656a-9859-49c1-d913-033be85d8173"
      },
      "execution_count": null,
      "outputs": [
        {
          "output_type": "execute_result",
          "data": {
            "text/plain": [
              "'psp'"
            ],
            "application/vnd.google.colaboratory.intrinsic+json": {
              "type": "string"
            }
          },
          "metadata": {},
          "execution_count": 31
        }
      ]
    },
    {
      "cell_type": "code",
      "source": [
        "#Given a non-empty string like \"Code\" return a string like \"CCoCodCode\".\n",
        "def string_increae(str):\n",
        "  newStr=''\n",
        "  for i in range(1,len(str)+1):#start with 1\n",
        "    newStr+=str[:i]\n",
        "  return newStr\n",
        "string_increae(\"push\")\n"
      ],
      "metadata": {
        "colab": {
          "base_uri": "https://localhost:8080/",
          "height": 36
        },
        "id": "4Xjvb9UBtW-i",
        "outputId": "5b6ed3a1-8954-4bfd-d263-9313dcd728f7"
      },
      "execution_count": null,
      "outputs": [
        {
          "output_type": "execute_result",
          "data": {
            "text/plain": [
              "'ppupuspush'"
            ],
            "application/vnd.google.colaboratory.intrinsic+json": {
              "type": "string"
            }
          },
          "metadata": {},
          "execution_count": 32
        }
      ]
    },
    {
      "cell_type": "code",
      "source": [
        "#Given a string, return the count of the number of times that a substring length 2 appears\n",
        "#in the string and also as the last 2 chars of the string, so \"hixxxhi\" yields 1\n",
        "# i.e no of occurence of last 2 char in the string\n",
        "def last2(str):\n",
        "  if len(str) < 2:\n",
        "    return 0\n",
        "  last2 = str[len(str)-2:]\n",
        "  count = 0\n",
        "  for i in range(len(str)-2):\n",
        "    sub = str[i:i+2]\n",
        "    if sub == last2:\n",
        "      count = count + 1\n",
        "  return count\n",
        "last2('nabina')\n"
      ],
      "metadata": {
        "colab": {
          "base_uri": "https://localhost:8080/"
        },
        "id": "x65piyecvHbt",
        "outputId": "5de3e50e-b618-460e-ad1f-18a951d1dd62"
      },
      "execution_count": null,
      "outputs": [
        {
          "output_type": "execute_result",
          "data": {
            "text/plain": [
              "1"
            ]
          },
          "metadata": {},
          "execution_count": 33
        }
      ]
    },
    {
      "cell_type": "code",
      "source": [
        "#Given an array of ints, return the number of 9's in the array.\n",
        "def array_count5(nums):\n",
        "  count=0\n",
        "  for i in nums:\n",
        "    if(i==5):\n",
        "      count+=1\n",
        "  return count\n",
        "array_count5([1,2,4,5,3,5,5])"
      ],
      "metadata": {
        "colab": {
          "base_uri": "https://localhost:8080/"
        },
        "id": "rj2fGu0ZwE81",
        "outputId": "eef8c4d2-4672-45b3-d8ce-95ba926a48a3"
      },
      "execution_count": null,
      "outputs": [
        {
          "output_type": "execute_result",
          "data": {
            "text/plain": [
              "3"
            ]
          },
          "metadata": {},
          "execution_count": 34
        }
      ]
    },
    {
      "cell_type": "code",
      "source": [
        "#Given an array of ints, return True if one of the first 4 elements in the array is a 9.\n",
        "# The array length may be less than 4.\n",
        "def array_front9(nums):\n",
        "    for i in nums[:4]:\n",
        "        if i == 9:\n",
        "            return True\n",
        "    return False\n",
        "array_front9([1,2,4,5,3,5,5])"
      ],
      "metadata": {
        "colab": {
          "base_uri": "https://localhost:8080/"
        },
        "id": "d1752DCEwaGb",
        "outputId": "8b3d46a4-6188-4ff5-c926-00adea673053"
      },
      "execution_count": null,
      "outputs": [
        {
          "output_type": "execute_result",
          "data": {
            "text/plain": [
              "False"
            ]
          },
          "metadata": {},
          "execution_count": 2
        }
      ]
    },
    {
      "cell_type": "code",
      "source": [
        "#Given an array of ints, return True if the sequence of numbers 1, 2, 3 appears in the array somewhere.\n",
        "def array123(nums):\n",
        "  for i in range(len(nums)-2):\n",
        "    if nums[i]==1 and nums[i+1]==2 and nums[i+2]==3:\n",
        "      return True# if this condition is not met till the loop finishes. exit and got out of the loop.\n",
        "  return False# out of the for loop\n",
        "array123([1,2,3,4,5])\n"
      ],
      "metadata": {
        "colab": {
          "base_uri": "https://localhost:8080/"
        },
        "id": "btKcI1ICsO5P",
        "outputId": "24ed3b4d-3066-43ef-f8ff-7a508268f302"
      },
      "execution_count": null,
      "outputs": [
        {
          "output_type": "execute_result",
          "data": {
            "text/plain": [
              "True"
            ]
          },
          "metadata": {},
          "execution_count": 4
        }
      ]
    },
    {
      "cell_type": "code",
      "source": [
        "# Given 2 strings, a and b, return the number of the positions where they contain the same\n",
        "#  length-2 substring. So \"xxcaazz\" and \"xxbaaz\" yields 3, since the \"xx\", \"aa\", and \"az\"\n",
        "#  substrings appear in the same place in both strings.\n",
        "\n",
        "def string_match(a, b):\n",
        "  # Figure which string is shorter.\n",
        "  shorter = min(len(a), len(b))\n",
        "  count = 0\n",
        "  for i in range(shorter-1):\n",
        "    if a[i:i+2] == b[i:i+2]:\n",
        "      count+= 1\n",
        "  return count\n",
        "string_match('pushpa','pukipa')"
      ],
      "metadata": {
        "colab": {
          "base_uri": "https://localhost:8080/"
        },
        "id": "Cupz0tquwXnL",
        "outputId": "f8d36583-0e4a-4046-b876-8c598634906b"
      },
      "execution_count": null,
      "outputs": [
        {
          "output_type": "execute_result",
          "data": {
            "text/plain": [
              "2"
            ]
          },
          "metadata": {},
          "execution_count": 6
        }
      ]
    }
  ]
}